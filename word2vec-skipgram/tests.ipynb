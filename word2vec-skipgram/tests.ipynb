{
 "cells": [
  {
   "cell_type": "code",
   "execution_count": 11,
   "metadata": {},
   "outputs": [],
   "source": [
    "import numpy as np\n",
    "a = np.array([3,4,6,4,3,5])"
   ]
  },
  {
   "cell_type": "code",
   "execution_count": 12,
   "metadata": {},
   "outputs": [],
   "source": [
    "V = np.array([[[6,2,2],[6,9,4],[1,8,5],[11,8,3]], [[1,2,3],[6,5,4],[7,8,5], [11,45,3]]])\n",
    "W = np.array([[66,4,6],[9,8,11],[67,12,34]])\n",
    "u_w = np.array([[1,2,3], [5,9,7]])"
   ]
  },
  {
   "cell_type": "code",
   "execution_count": 13,
   "metadata": {},
   "outputs": [
    {
     "data": {
      "text/plain": [
       "array([[ 1054,  1846,  1521,  2055],\n",
       "       [ 2839,  6142,  7813, 15261]])"
      ]
     },
     "execution_count": 13,
     "metadata": {},
     "output_type": "execute_result"
    }
   ],
   "source": [
    "# otg: vtori chlen array([ 2839,  6142,  7813, 15261])\n",
    "VWu_w = np.einsum(\"sij,jk,sk->si\",V,W,u_w)\n",
    "VWu_w"
   ]
  },
  {
   "cell_type": "code",
   "execution_count": 14,
   "metadata": {},
   "outputs": [
    {
     "data": {
      "text/plain": [
       "array([ 2838.,  6142.,  7813., 15261.])"
      ]
     },
     "execution_count": 14,
     "metadata": {},
     "output_type": "execute_result"
    }
   ],
   "source": [
    "# vtori chlen \n",
    "# # array([[ 285,   56,  130],\n",
    "#        [ 709,  112,  227],\n",
    "#        [ 869,  152,  300],\n",
    "#        [1332,  440,  663]])\n",
    "delta = np.zeros(shape=V.shape[1])\n",
    "delta[0] = 1\n",
    "sig_matrix = VWu_w - delta\n",
    "sig_matrix[1]"
   ]
  },
  {
   "cell_type": "code",
   "execution_count": 15,
   "metadata": {},
   "outputs": [
    {
     "data": {
      "text/plain": [
       "array([32280657.,  8749248., 14225117.])"
      ]
     },
     "execution_count": 15,
     "metadata": {},
     "output_type": "execute_result"
    }
   ],
   "source": [
    "a = np.array([ 2839,  6142,  7813, 15261]) - delta\n",
    "b = np.array([[ 285,   56,  130],\n",
    "       [ 709,  112,  227],\n",
    "      [ 869,  152,  300],\n",
    "       [1332,  440,  663]])\n",
    "np.einsum('i,ij->j',a,b)"
   ]
  },
  {
   "cell_type": "code",
   "execution_count": 16,
   "metadata": {},
   "outputs": [
    {
     "data": {
      "text/plain": [
       "array([[ 4724692.,   823824.,  1560568.],\n",
       "       [32280657.,  8749248., 14225117.]])"
      ]
     },
     "execution_count": 16,
     "metadata": {},
     "output_type": "execute_result"
    }
   ],
   "source": [
    "VW = np.einsum(\"sij,jk->sik\",V, W) # Sx(n+1)xM\n",
    "du_w = np.einsum(\"si,sij->sj\", sig_matrix, VW)\n",
    "du_w"
   ]
  },
  {
   "cell_type": "code",
   "execution_count": 17,
   "metadata": {},
   "outputs": [
    {
     "data": {
      "text/plain": [
       "array([32280657.,  8749248., 14225117.])"
      ]
     },
     "execution_count": 17,
     "metadata": {},
     "output_type": "execute_result"
    }
   ],
   "source": [
    "du_w1 = np.einsum('i,ij->j', sig_matrix[1], VW[1])\n",
    "du_w1"
   ]
  },
  {
   "cell_type": "code",
   "execution_count": 18,
   "metadata": {},
   "outputs": [
    {
     "data": {
      "text/plain": [
       "array([6, 2, 2])"
      ]
     },
     "execution_count": 18,
     "metadata": {},
     "output_type": "execute_result"
    }
   ],
   "source": [
    "V[0][0,:]"
   ]
  },
  {
   "cell_type": "code",
   "execution_count": 21,
   "metadata": {},
   "outputs": [
    {
     "data": {
      "text/plain": [
       "array([[[ 548,   64,  126],\n",
       "        [ 745,  144,  271],\n",
       "        [ 473,  128,  264],\n",
       "        [ 999,  144,  256]],\n",
       "\n",
       "       [[ 285,   56,  130],\n",
       "        [ 709,  112,  227],\n",
       "        [ 869,  152,  300],\n",
       "        [1332,  440,  663]]])"
      ]
     },
     "execution_count": 21,
     "metadata": {},
     "output_type": "execute_result"
    }
   ],
   "source": [
    "VW"
   ]
  },
  {
   "cell_type": "code",
   "execution_count": 23,
   "metadata": {},
   "outputs": [
    {
     "data": {
      "text/plain": [
       "array([[[1096,  128,  252],\n",
       "        [1490,  288,  542],\n",
       "        [ 946,  256,  528],\n",
       "        [1998,  288,  512]],\n",
       "\n",
       "       [[ 570,  112,  260],\n",
       "        [1418,  224,  454],\n",
       "        [1738,  304,  600],\n",
       "        [2664,  880, 1326]]])"
      ]
     },
     "execution_count": 23,
     "metadata": {},
     "output_type": "execute_result"
    }
   ],
   "source": [
    "2*VW"
   ]
  },
  {
   "cell_type": "code",
   "execution_count": null,
   "metadata": {},
   "outputs": [
    {
     "name": "stdout",
     "output_type": "stream",
     "text": [
      "[[164 206]\n",
      " [328 412]\n",
      " [492 618]]\n",
      "[[1476 1854]\n",
      " [1230 1545]\n",
      " [ 984 1236]]\n",
      "[[1148 1442]\n",
      " [1312 1648]\n",
      " [ 820 1030]]\n",
      "[[ 7216  9064]\n",
      " [29520 37080]\n",
      " [ 1968  2472]]\n"
     ]
    }
   ],
   "source": [
    "for i in range(few_matrices.shape[0]):\n",
    "    print(np.matmul(few_matrices[i], other))"
   ]
  },
  {
   "cell_type": "code",
   "execution_count": null,
   "metadata": {},
   "outputs": [
    {
     "data": {
      "text/plain": [
       "array([ 26,  58,  78, 228])"
      ]
     },
     "execution_count": 117,
     "metadata": {},
     "output_type": "execute_result"
    }
   ],
   "source": [
    "np.matmul(V,np.array([3,4,5]))\n"
   ]
  },
  {
   "cell_type": "code",
   "execution_count": null,
   "metadata": {},
   "outputs": [
    {
     "data": {
      "text/plain": [
       "array([[ 0,  3,  4],\n",
       "       [ 5,  6,  5],\n",
       "       [ 6,  9,  6],\n",
       "       [10, 46,  4]])"
      ]
     },
     "execution_count": 152,
     "metadata": {},
     "output_type": "execute_result"
    }
   ],
   "source": [
    "b = np.array([-1,1,1])\n",
    "c = np.array([4,5,6,7])\n",
    "\n",
    "V+b"
   ]
  },
  {
   "cell_type": "code",
   "execution_count": null,
   "metadata": {},
   "outputs": [
    {
     "data": {
      "text/plain": [
       "array([[ 1,  2,  3],\n",
       "       [ 6,  5,  4],\n",
       "       [ 7,  8,  5],\n",
       "       [11, 45,  3]])"
      ]
     },
     "execution_count": 151,
     "metadata": {},
     "output_type": "execute_result"
    }
   ],
   "source": [
    "V"
   ]
  },
  {
   "cell_type": "code",
   "execution_count": null,
   "metadata": {},
   "outputs": [
    {
     "data": {
      "text/plain": [
       "array([[ -1,   2,   3],\n",
       "       [ -6,   5,   4],\n",
       "       [ -7,   8,   5],\n",
       "       [-11,  45,   3]])"
      ]
     },
     "execution_count": 146,
     "metadata": {},
     "output_type": "execute_result"
    }
   ],
   "source": [
    "np.einsum(\"ij,j->ij\",V,b)"
   ]
  },
  {
   "cell_type": "code",
   "execution_count": null,
   "metadata": {},
   "outputs": [],
   "source": []
  }
 ],
 "metadata": {
  "kernelspec": {
   "display_name": "basic",
   "language": "python",
   "name": "python3"
  },
  "language_info": {
   "codemirror_mode": {
    "name": "ipython",
    "version": 3
   },
   "file_extension": ".py",
   "mimetype": "text/x-python",
   "name": "python",
   "nbconvert_exporter": "python",
   "pygments_lexer": "ipython3",
   "version": "3.8.10"
  },
  "orig_nbformat": 4,
  "vscode": {
   "interpreter": {
    "hash": "b834aff05deab2c54706a79b6632872aaedce44b0dd23efc459a913443c6a209"
   }
  }
 },
 "nbformat": 4,
 "nbformat_minor": 2
}
